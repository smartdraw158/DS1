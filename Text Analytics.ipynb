{
 "cells": [
  {
   "cell_type": "markdown",
   "id": "6ab1c594-09fa-4d7e-9905-ff226223d556",
   "metadata": {},
   "source": [
    "Algorithm for Tokenization, POS Tagging, stop words removal, Stemming and\n",
    "Lemmatization:"
   ]
  },
  {
   "cell_type": "markdown",
   "id": "e0561158-7b3a-4c53-94da-edfd5d7611b1",
   "metadata": {},
   "source": [
    "Step 1: Download the required packages"
   ]
  },
  {
   "cell_type": "code",
   "execution_count": 1,
   "id": "558c3fce-ba1d-4b4e-a5d7-ea4895150d78",
   "metadata": {},
   "outputs": [],
   "source": [
    "import nltk"
   ]
  },
  {
   "cell_type": "code",
   "execution_count": 2,
   "id": "8000eb08-90e9-41e0-8e6f-f2915ec5a4a0",
   "metadata": {},
   "outputs": [
    {
     "name": "stderr",
     "output_type": "stream",
     "text": [
      "[nltk_data] Downloading package punkt to\n",
      "[nltk_data]     C:\\Users\\mugdh\\AppData\\Roaming\\nltk_data...\n",
      "[nltk_data]   Unzipping tokenizers\\punkt.zip.\n",
      "[nltk_data] Downloading package stopwords to\n",
      "[nltk_data]     C:\\Users\\mugdh\\AppData\\Roaming\\nltk_data...\n",
      "[nltk_data]   Unzipping corpora\\stopwords.zip.\n",
      "[nltk_data] Downloading package wordnet to\n",
      "[nltk_data]     C:\\Users\\mugdh\\AppData\\Roaming\\nltk_data...\n",
      "[nltk_data] Downloading package averaged_perceptron_tagger to\n",
      "[nltk_data]     C:\\Users\\mugdh\\AppData\\Roaming\\nltk_data...\n",
      "[nltk_data]   Unzipping taggers\\averaged_perceptron_tagger.zip.\n"
     ]
    },
    {
     "data": {
      "text/plain": [
       "True"
      ]
     },
     "execution_count": 2,
     "metadata": {},
     "output_type": "execute_result"
    }
   ],
   "source": [
    "nltk.download('punkt')\n",
    "nltk.download('stopwords')\n",
    "nltk.download('wordnet')\n",
    "nltk.download('averaged_perceptron_tagger')"
   ]
  },
  {
   "cell_type": "markdown",
   "id": "689eeb06-2f4f-4e9c-b2bd-99a6fa6374fd",
   "metadata": {},
   "source": [
    "Step 2: Initialize the text"
   ]
  },
  {
   "cell_type": "code",
   "execution_count": 3,
   "id": "010eed4d-91d3-4a81-92d9-6ace94c344c8",
   "metadata": {},
   "outputs": [],
   "source": [
    "text= \"Tokenization is the first step in text analytics. The process of breaking down a text paragraph into smaller chunks such as words or sentences is called Tokenization.\""
   ]
  },
  {
   "cell_type": "markdown",
   "id": "41699497-93bd-4be7-9da8-a50beff14c10",
   "metadata": {},
   "source": [
    "Step 3: Perform Tokenization\n"
   ]
  },
  {
   "cell_type": "code",
   "execution_count": 4,
   "id": "8bd6e34e-f521-4f1d-b982-8d29492f4a07",
   "metadata": {},
   "outputs": [
    {
     "name": "stdout",
     "output_type": "stream",
     "text": [
      "['Tokenization is the first step in text analytics.', 'The process of breaking down a text paragraph into smaller chunks such as words or sentences is called Tokenization.']\n",
      "['Tokenization', 'is', 'the', 'first', 'step', 'in', 'text', 'analytics', '.', 'The', 'process', 'of', 'breaking', 'down', 'a', 'text', 'paragraph', 'into', 'smaller', 'chunks', 'such', 'as', 'words', 'or', 'sentences', 'is', 'called', 'Tokenization', '.']\n"
     ]
    }
   ],
   "source": [
    "#Sentence Tokenization\n",
    "from nltk.tokenize import sent_tokenize\n",
    "tokenized_text= sent_tokenize(text)\n",
    "print(tokenized_text)\n",
    "#Word Tokenization\n",
    "from nltk.tokenize import word_tokenize\n",
    "tokenized_word=word_tokenize(text)\n",
    "print(tokenized_word)\n"
   ]
  },
  {
   "cell_type": "markdown",
   "id": "098ec756-7ab7-4378-acd5-a73409b72140",
   "metadata": {},
   "source": [
    "Step 4: Removing Punctuations and Stop Word"
   ]
  },
  {
   "cell_type": "code",
   "execution_count": 5,
   "id": "2a52bc54-837d-4bf4-b903-e5f7295017a8",
   "metadata": {},
   "outputs": [
    {
     "name": "stdout",
     "output_type": "stream",
     "text": [
      "{'wouldn', 'now', \"isn't\", 'd', 'haven', 'nor', \"won't\", \"she's\", 'mightn', 'her', 'we', \"doesn't\", \"mightn't\", 'through', 'who', 'weren', 'can', 'ours', 'hasn', 'mustn', \"shan't\", 'under', 'couldn', 'over', \"should've\", 'because', 'm', 'of', 'he', 're', 'whom', 'ain', 'been', 'shan', 'no', \"you're\", 'o', 'very', 'their', \"hadn't\", 'should', 'won', 'herself', 'our', 'be', 'has', 'than', 'theirs', 'between', 'am', 'the', 'from', 'too', 'yourselves', 'y', 've', 'didn', 'once', 'doesn', 'hadn', 'but', 'above', \"hasn't\", 'again', 'why', 'that', \"haven't\", 'are', 'i', \"it's\", 'does', 'wasn', 'this', 'on', 'were', 'shouldn', 'she', 'a', 'at', 'just', 'which', 'until', 'me', \"don't\", 'and', 'to', 'had', 'yourself', 'or', 'do', 'down', 'needn', \"wouldn't\", \"didn't\", 'those', \"wasn't\", 'out', 'these', 'did', 'with', 'here', 'ma', \"mustn't\", \"needn't\", \"aren't\", 'in', 'my', 'any', 'himself', 'by', 'ourselves', 'more', 'below', 'him', 'aren', 'what', 'about', 'other', 'doing', 'where', 'each', 'most', 'you', 'an', 'before', 'being', 'yours', 'few', 'up', 'isn', 's', \"you've\", 'into', \"you'd\", 'for', 'your', \"that'll\", 'not', 'it', 'how', \"couldn't\", 'when', 'itself', 'they', 't', 'during', 'was', 'there', 'his', 'if', 'then', 'such', 'as', 'both', \"weren't\", \"shouldn't\", 'hers', 'while', 'will', 'themselves', 'them', 'having', 'further', 'after', 'so', 'same', 'against', 'its', 'don', 'is', 'have', 'myself', 'll', 'all', 'own', \"you'll\", 'some', 'off', 'only'}\n",
      "Tokenized Sentence: ['how', 'to', 'remove', 'stop', 'words', 'with', 'nltk', 'library', 'in', 'python']\n",
      "Filterd Sentence: ['remove', 'stop', 'words', 'nltk', 'library', 'python']\n"
     ]
    }
   ],
   "source": [
    "# print stop words of English\n",
    "import re\n",
    "from nltk.corpus import stopwords\n",
    "stop_words=set(stopwords.words(\"english\"))\n",
    "print(stop_words)\n",
    "text= \"How to remove stop words with NLTK library in Python?\"\n",
    "text= re.sub('[^a-zA-Z]', ' ',text)\n",
    "tokens = word_tokenize(text.lower())\n",
    "filtered_text=[]\n",
    "for w in tokens:\n",
    "    if w not in stop_words:\n",
    "        filtered_text.append(w)\n",
    "print(\"Tokenized Sentence:\",tokens)\n",
    "print(\"Filterd Sentence:\",filtered_text)"
   ]
  },
  {
   "cell_type": "markdown",
   "id": "de095b14-2a44-48aa-96ce-f98e705b7d2f",
   "metadata": {},
   "source": [
    "Step 5 : Perform Stemming"
   ]
  },
  {
   "cell_type": "code",
   "execution_count": 6,
   "id": "51dec87b-2220-46c4-be2b-a33ef8bb273b",
   "metadata": {},
   "outputs": [
    {
     "name": "stdout",
     "output_type": "stream",
     "text": [
      "wait\n"
     ]
    }
   ],
   "source": [
    "from nltk.stem import PorterStemmer\n",
    "e_words= [\"wait\", \"waiting\", \"waited\", \"waits\"]\n",
    "ps =PorterStemmer()\n",
    "for w in e_words:\n",
    "   rootWord=ps.stem(w)\n",
    "print(rootWord)\n"
   ]
  },
  {
   "cell_type": "markdown",
   "id": "93ea21d3-3c58-44b5-8ebc-3e754befdac3",
   "metadata": {},
   "source": [
    "Step 6: Perform Lemmatization"
   ]
  },
  {
   "cell_type": "code",
   "execution_count": 7,
   "id": "538ccfad-03f7-44fe-81a2-7cf1bcad1d94",
   "metadata": {},
   "outputs": [
    {
     "name": "stdout",
     "output_type": "stream",
     "text": [
      "Lemma for studies is study\n",
      "Lemma for studying is studying\n",
      "Lemma for cries is cry\n",
      "Lemma for cry is cry\n"
     ]
    }
   ],
   "source": [
    "from nltk.stem import WordNetLemmatizer\n",
    "wordnet_lemmatizer = WordNetLemmatizer()\n",
    "text = \"studies studying cries cry\"\n",
    "tokenization = nltk.word_tokenize(text)\n",
    "for w in tokenization:\n",
    "    print(\"Lemma for {} is {}\".format(w,wordnet_lemmatizer.lemmatize(w)))\n"
   ]
  },
  {
   "cell_type": "markdown",
   "id": "f49f359e-7551-44d1-b438-c1d5754ebcc1",
   "metadata": {},
   "source": [
    "Step 7: Apply POS Tagging to text"
   ]
  },
  {
   "cell_type": "code",
   "execution_count": 8,
   "id": "a6c38622-b5a3-4609-b515-79b6dc299540",
   "metadata": {},
   "outputs": [
    {
     "name": "stdout",
     "output_type": "stream",
     "text": [
      "[('The', 'DT')]\n",
      "[('pink', 'NN')]\n",
      "[('sweater', 'NN')]\n",
      "[('fit', 'NN')]\n",
      "[('her', 'PRP$')]\n",
      "[('perfectly', 'RB')]\n"
     ]
    }
   ],
   "source": [
    "import nltk\n",
    "from nltk.tokenize import word_tokenize\n",
    "data=\"The pink sweater fit her perfectly\"\n",
    "words=word_tokenize(data)\n",
    "for word in words:\n",
    "   print(nltk.pos_tag([word]))\n"
   ]
  },
  {
   "cell_type": "markdown",
   "id": "56c516e9-d245-4d53-8c7c-d2e3ffbb140d",
   "metadata": {},
   "source": [
    "Algorithm for Create representation of document by calculating TFIDF"
   ]
  },
  {
   "cell_type": "markdown",
   "id": "939113a5-fe9a-41da-9a10-3ae415954e07",
   "metadata": {},
   "source": [
    "Step 1: Import the necessary libraries."
   ]
  },
  {
   "cell_type": "code",
   "execution_count": 9,
   "id": "422d056e-0432-4f99-9433-c107b76230b6",
   "metadata": {},
   "outputs": [],
   "source": [
    "import pandas as pd\n",
    "from sklearn.feature_extraction.text import TfidfVectorizer"
   ]
  },
  {
   "cell_type": "markdown",
   "id": "ae25a619-b78f-44a0-bc19-efd9518ca334",
   "metadata": {},
   "source": [
    "Step 2: Initialize the Documents"
   ]
  },
  {
   "cell_type": "code",
   "execution_count": 10,
   "id": "1a27c9a3-fb06-4d85-86e5-204409c93ee9",
   "metadata": {},
   "outputs": [],
   "source": [
    "doc_a = 'Jupiter is the largest Planet'\n",
    "doc_b = 'Mars is the fourth planet from the Sun'\n"
   ]
  },
  {
   "cell_type": "markdown",
   "id": "82ab15a0-756a-4a53-bbbc-2640e263bce7",
   "metadata": {},
   "source": [
    "Step 3: Create BagofWords (BoW) for Document A and B."
   ]
  },
  {
   "cell_type": "code",
   "execution_count": 11,
   "id": "9387747b-4b14-4598-90ea-802cc90e721b",
   "metadata": {},
   "outputs": [],
   "source": [
    "bag_of_words_a = doc_a.split(' ')\n",
    "bag_of_words_b = doc_b.split(' ')\n"
   ]
  },
  {
   "cell_type": "markdown",
   "id": "5eae1e94-5840-49c6-8064-e91e98827308",
   "metadata": {},
   "source": [
    "Step 4: Create Collection of Unique words from Document A and B."
   ]
  },
  {
   "cell_type": "code",
   "execution_count": 12,
   "id": "55381f5e-754d-4580-bc75-1a6839dcdfe1",
   "metadata": {},
   "outputs": [
    {
     "name": "stdout",
     "output_type": "stream",
     "text": [
      "{'is', 'Sun', 'Planet', 'Jupiter', 'Mars', 'the', 'fourth', 'from', 'planet', 'largest'}\n"
     ]
    }
   ],
   "source": [
    "unique_words_set = set(bag_of_words_a).union(set(bag_of_words_b))\n",
    "print(unique_words_set)"
   ]
  },
  {
   "cell_type": "markdown",
   "id": "8d513e20-9d7f-4ac4-8dfc-4fc7e662df66",
   "metadata": {},
   "source": [
    "Step 5: Create a dictionary of words and their occurrence for each document in the\n",
    "corpus"
   ]
  },
  {
   "cell_type": "code",
   "execution_count": 13,
   "id": "8842fd7d-5eb1-4143-ba82-df73b2adca6a",
   "metadata": {},
   "outputs": [
    {
     "name": "stdout",
     "output_type": "stream",
     "text": [
      "{'is': 1, 'Sun': 0, 'Planet': 1, 'Jupiter': 1, 'Mars': 0, 'the': 1, 'fourth': 0, 'from': 0, 'planet': 0, 'largest': 1}\n",
      "{'is': 1, 'Sun': 1, 'Planet': 0, 'Jupiter': 0, 'Mars': 1, 'the': 2, 'fourth': 1, 'from': 1, 'planet': 1, 'largest': 0}\n"
     ]
    }
   ],
   "source": [
    "\n",
    "dict_a = dict.fromkeys(unique_words_set, 0)\n",
    "# print(dict_a) # {'this': 0, 'document': 0, 'second': 0, 'is': 0, 'the': 0}\n",
    "\n",
    "for word in bag_of_words_a:\n",
    "    dict_a[word] += 1\n",
    "\n",
    "print(dict_a)\n",
    "# {'this': 1, 'document': 2, 'second': 1, 'is': 1, 'the': 1}\n",
    "\n",
    "# similarly\n",
    "\n",
    "dict_b = dict.fromkeys(unique_words_set, 0)\n",
    "for word in bag_of_words_b:\n",
    "    dict_b[word] += 1\n",
    "\n",
    "print(dict_b)"
   ]
  },
  {
   "cell_type": "markdown",
   "id": "f9df1509-9d42-4364-905b-cbb893b1cc34",
   "metadata": {},
   "source": [
    "Step 6: Compute the term frequency for each of our documents."
   ]
  },
  {
   "cell_type": "code",
   "execution_count": 14,
   "id": "8eb7cf00-7073-4ea5-be91-ed85570e004d",
   "metadata": {},
   "outputs": [
    {
     "name": "stdout",
     "output_type": "stream",
     "text": [
      "{'is': 0.2, 'Sun': 0.0, 'Planet': 0.2, 'Jupiter': 0.2, 'Mars': 0.0, 'the': 0.2, 'fourth': 0.0, 'from': 0.0, 'planet': 0.0, 'largest': 0.2}\n",
      "{'is': 0.125, 'Sun': 0.125, 'Planet': 0.0, 'Jupiter': 0.0, 'Mars': 0.125, 'the': 0.25, 'fourth': 0.125, 'from': 0.125, 'planet': 0.125, 'largest': 0.0}\n"
     ]
    }
   ],
   "source": [
    "def compute_term_frequency(word_dictionary, bag_of_words):\n",
    "    term_frequency_dictionary = {}\n",
    "    length_of_bag_of_words = len(bag_of_words)\n",
    "\n",
    "    for word, count in word_dictionary.items():\n",
    "        term_frequency_dictionary[word] = count / float(length_of_bag_of_words)\n",
    "\n",
    "    return term_frequency_dictionary\n",
    "\n",
    "# Implementation\n",
    "\n",
    "print(compute_term_frequency(dict_a, bag_of_words_a))\n",
    "print(compute_term_frequency(dict_b, bag_of_words_b))"
   ]
  },
  {
   "cell_type": "markdown",
   "id": "b0a6b2f4-2d14-4cc2-860f-346dc7b0d975",
   "metadata": {},
   "source": [
    "Step 7: Compute the term Inverse Document Frequency."
   ]
  },
  {
   "cell_type": "code",
   "execution_count": 15,
   "id": "2ea9b491-d6eb-414a-8c01-0b01921d2644",
   "metadata": {},
   "outputs": [
    {
     "name": "stdout",
     "output_type": "stream",
     "text": [
      "{'is': 0.6931471805599453, 'Sun': 0.6931471805599453, 'Planet': 0.6931471805599453, 'Jupiter': 0.6931471805599453, 'Mars': 0.6931471805599453, 'the': 0.6931471805599453, 'fourth': 0.6931471805599453, 'from': 0.6931471805599453, 'planet': 0.6931471805599453, 'largest': 0.6931471805599453}\n"
     ]
    }
   ],
   "source": [
    "import math\n",
    "\n",
    "def compute_inverse_document_frequency(full_doc_list):\n",
    "    idf_dict = {}\n",
    "    length_of_doc_list = len(full_doc_list)\n",
    "\n",
    "    idf_dict = dict.fromkeys(full_doc_list[0].keys(), 0)\n",
    "    for word, value in idf_dict.items():\n",
    "        idf_dict[word] = math.log(length_of_doc_list / (float(value) + 1))\n",
    "\n",
    "    return idf_dict\n",
    "\n",
    "final_idf_dict = compute_inverse_document_frequency([dict_a, dict_b])\n",
    "print(final_idf_dict)\n"
   ]
  },
  {
   "cell_type": "markdown",
   "id": "19dfc692-0e69-4a91-b38c-055e9a5f5fda",
   "metadata": {},
   "source": [
    "Step 8: Compute the term TF/IDF for all words."
   ]
  },
  {
   "cell_type": "code",
   "execution_count": 16,
   "id": "a117f075-d746-40bd-a2e9-cae161595a20",
   "metadata": {},
   "outputs": [
    {
     "name": "stdout",
     "output_type": "stream",
     "text": [
      "{'is': 0.6931471805599453}\n",
      "{'is': 0.6931471805599453}\n"
     ]
    },
    {
     "data": {
      "text/html": [
       "<div>\n",
       "<style scoped>\n",
       "    .dataframe tbody tr th:only-of-type {\n",
       "        vertical-align: middle;\n",
       "    }\n",
       "\n",
       "    .dataframe tbody tr th {\n",
       "        vertical-align: top;\n",
       "    }\n",
       "\n",
       "    .dataframe thead th {\n",
       "        text-align: right;\n",
       "    }\n",
       "</style>\n",
       "<table border=\"1\" class=\"dataframe\">\n",
       "  <thead>\n",
       "    <tr style=\"text-align: right;\">\n",
       "      <th></th>\n",
       "      <th>is</th>\n",
       "    </tr>\n",
       "  </thead>\n",
       "  <tbody>\n",
       "    <tr>\n",
       "      <th>0</th>\n",
       "      <td>0.693147</td>\n",
       "    </tr>\n",
       "    <tr>\n",
       "      <th>1</th>\n",
       "      <td>0.693147</td>\n",
       "    </tr>\n",
       "  </tbody>\n",
       "</table>\n",
       "</div>"
      ],
      "text/plain": [
       "         is\n",
       "0  0.693147\n",
       "1  0.693147"
      ]
     },
     "execution_count": 16,
     "metadata": {},
     "output_type": "execute_result"
    }
   ],
   "source": [
    "def compute_term_frequency_inverse_document_frequency(bag_of_words, final_idf_dict): \n",
    "    tfidf = {} \n",
    "    for word, val in bag_of_words.items(): \n",
    "        tfidf[word] = val * final_idf_dict[word] \n",
    "        return tfidf\n",
    "\n",
    "tfidfdict_a = compute_term_frequency_inverse_document_frequency(dict_a, final_idf_dict) \n",
    "tfidfdict_b = compute_term_frequency_inverse_document_frequency(dict_b, final_idf_dict)\n",
    "\n",
    "print(tfidfdict_a) \n",
    "print(tfidfdict_b)\n",
    "df = pd.DataFrame([tfidfdict_a,tfidfdict_b])\n",
    "df"
   ]
  },
  {
   "cell_type": "code",
   "execution_count": 17,
   "id": "61662b55",
   "metadata": {},
   "outputs": [
    {
     "ename": "SyntaxError",
     "evalue": "invalid syntax (<ipython-input-17-739fdb9c6fc1>, line 1)",
     "output_type": "error",
     "traceback": [
      "\u001b[1;36m  File \u001b[1;32m\"<ipython-input-17-739fdb9c6fc1>\"\u001b[1;36m, line \u001b[1;32m1\u001b[0m\n\u001b[1;33m    import word cloud import Word cloud\u001b[0m\n\u001b[1;37m                ^\u001b[0m\n\u001b[1;31mSyntaxError\u001b[0m\u001b[1;31m:\u001b[0m invalid syntax\n"
     ]
    }
   ],
   "source": [
    "import word cloud import Word cloud"
   ]
  },
  {
   "cell_type": "code",
   "execution_count": null,
   "id": "ce9c4d1f",
   "metadata": {},
   "outputs": [],
   "source": [
    "wc=Wordcloud().generate(text)"
   ]
  },
  {
   "cell_type": "code",
   "execution_count": null,
   "id": "41dca1d7",
   "metadata": {},
   "outputs": [],
   "source": [
    "plt.fig(fig(12,12))\n",
    "figsize=(12,12)"
   ]
  }
 ],
 "metadata": {
  "kernelspec": {
   "display_name": "Python 3 (ipykernel)",
   "language": "python",
   "name": "python3"
  },
  "language_info": {
   "codemirror_mode": {
    "name": "ipython",
    "version": 3
   },
   "file_extension": ".py",
   "mimetype": "text/x-python",
   "name": "python",
   "nbconvert_exporter": "python",
   "pygments_lexer": "ipython3",
   "version": "3.8.5"
  }
 },
 "nbformat": 4,
 "nbformat_minor": 5
}
